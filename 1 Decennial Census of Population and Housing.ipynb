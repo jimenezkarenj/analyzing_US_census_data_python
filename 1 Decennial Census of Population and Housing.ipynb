{
 "cells": [
  {
   "cell_type": "markdown",
   "metadata": {},
   "source": [
    "# Decennial Census of Population and Housing\n",
    "### Analyzing US Census Data in Python\n",
    "#### DataCamp\n",
    "#### Karen Jimenez"
   ]
  },
  {
   "cell_type": "code",
   "execution_count": 15,
   "metadata": {},
   "outputs": [],
   "source": [
    "import pandas as pd\n",
    "import matplotlib.pyplot as plt\n",
    "import seaborn as sns\n",
    "sns.set()\n",
    "\n",
    "# Read data frame States\n",
    "states = pd.read_csv('Data/states.csv')"
   ]
  },
  {
   "cell_type": "markdown",
   "metadata": {},
   "source": [
    "## Aggregate and Calculate Proportions"
   ]
  },
  {
   "cell_type": "code",
   "execution_count": 16,
   "metadata": {},
   "outputs": [
    {
     "name": "stdout",
     "output_type": "stream",
     "text": [
      "54.5246839030109\n"
     ]
    }
   ],
   "source": [
    "# What percentage of Hispanics identify as White?\n",
    "print(100 * states[\"hispanic_white\"].sum() / states[\"hispanic\"].sum())"
   ]
  },
  {
   "cell_type": "code",
   "execution_count": 17,
   "metadata": {},
   "outputs": [
    {
     "name": "stdout",
     "output_type": "stream",
     "text": [
      "hispanic_white          54.524684\n",
      "hispanic_black           3.139062\n",
      "hispanic_aian            1.300926\n",
      "hispanic_asian           0.393289\n",
      "hispanic_pacific         0.108426\n",
      "hispanic_other          34.693285\n",
      "hispanic_multiracial     5.840328\n",
      "dtype: float64\n"
     ]
    }
   ],
   "source": [
    "# Set list of Hispanic race column names\n",
    "hispanic_races = [\"hispanic_white\", \"hispanic_black\", \"hispanic_aian\", \"hispanic_asian\", \n",
    "                  \"hispanic_pacific\", \"hispanic_other\", \"hispanic_multiracial\"]\n",
    "\n",
    "# What percentage of Hispanics identify as each race?\n",
    "print(100 * states[hispanic_races].sum() / states[\"hispanic\"].sum())"
   ]
  },
  {
   "cell_type": "code",
   "execution_count": 18,
   "metadata": {},
   "outputs": [
    {
     "name": "stdout",
     "output_type": "stream",
     "text": [
      "   hispanic_white  hispanic_black  hispanic_aian  hispanic_asian  \\\n",
      "0       38.249588        3.703624       1.245137        0.354522   \n",
      "1       46.513287        3.347856       5.898239        1.722337   \n",
      "2       51.261088        1.050419       2.063321        0.326412   \n",
      "3       38.570277        1.501209       1.109917        0.244558   \n",
      "4       46.366571        0.965254       1.431105        0.613235   \n",
      "\n",
      "   hispanic_pacific  hispanic_other  hispanic_multiracial  \n",
      "0          0.582429       50.042564              5.822136  \n",
      "1          0.484089       25.455426             16.578766  \n",
      "2          0.089122       39.739408              5.470230  \n",
      "3          0.190271       52.378393              6.005375  \n",
      "4          0.112811       44.469173              6.041851  \n"
     ]
    }
   ],
   "source": [
    "# Create a deep copy of only the Hispanic race columns\n",
    "states_hr = states[hispanic_races].copy()\n",
    "\n",
    "# Calculate percentages for all columns in the date frame\n",
    "for race in hispanic_races:\n",
    "    states_hr[race] = 100 * states_hr[race] / states[\"hispanic\"]\n",
    "\n",
    "# View the result\n",
    "print(states_hr.head())"
   ]
  },
  {
   "cell_type": "markdown",
   "metadata": {},
   "source": [
    "## Identify Extreme Values"
   ]
  },
  {
   "cell_type": "code",
   "execution_count": 25,
   "metadata": {},
   "outputs": [
    {
     "data": {
      "image/png": "[encoded data removed]",
      "text/plain": [
       "<Figure size 432x288 with 1 Axes>"
      ]
     },
     "metadata": {},
     "output_type": "display_data"
    },
    {
     "name": "stdout",
     "output_type": "stream",
     "text": [
      "Largest value in column hispanic_white \n",
      "\n",
      "hispanic_white          76.339680\n",
      "hispanic_black           3.521989\n",
      "hispanic_aian            0.572777\n",
      "hispanic_asian           0.227402\n",
      "hispanic_pacific         0.060633\n",
      "hispanic_other          14.978955\n",
      "hispanic_multiracial     4.298564\n",
      "Name: 9, dtype: float64 \n",
      "\n",
      "Smallest value in column hispanic_other \n",
      "\n",
      "hispanic_white          75.862495\n",
      "hispanic_black          12.385538\n",
      "hispanic_aian            0.528948\n",
      "hispanic_asian           0.105762\n",
      "hispanic_pacific         0.007944\n",
      "hispanic_other           7.831978\n",
      "hispanic_multiracial     3.277334\n",
      "Name: 39, dtype: float64 \n",
      "\n",
      "Largest value in column hispanic_asian \n",
      "\n",
      "hispanic_white          22.555072\n",
      "hispanic_black           1.257841\n",
      "hispanic_aian            1.109714\n",
      "hispanic_asian           9.751576\n",
      "hispanic_pacific         5.958193\n",
      "hispanic_other          12.493173\n",
      "hispanic_multiracial    46.874431\n",
      "Name: 11, dtype: float64\n"
     ]
    }
   ],
   "source": [
    "# Import seaborn and matplotlib.plt\n",
    "import matplotlib.pyplot as plt\n",
    "import seaborn as sns\n",
    "sns.set()\n",
    "\n",
    "# Create a boxplot\n",
    "sns.boxplot(data = states_hr, orient = \"h\")\n",
    "plt.show()\n",
    "\n",
    "# Show states with extreme values in various columns\n",
    "print(\"Largest value in column hispanic_white\", '\\n')\n",
    "print(states_hr.nlargest(1, \"hispanic_white\").squeeze(), '\\n')\n",
    "print(\"Smallest value in column hispanic_other\", '\\n')\n",
    "print(states_hr.nsmallest(1, \"hispanic_other\").squeeze(),'\\n')\n",
    "print(\"Largest value in column hispanic_asian\", '\\n')\n",
    "print(states_hr.nlargest(1, \"hispanic_asian\").squeeze())"
   ]
  },
  {
   "cell_type": "markdown",
   "metadata": {},
   "source": [
    "--- ---"
   ]
  },
  {
   "cell_type": "markdown",
   "metadata": {},
   "source": [
    "--- ---"
   ]
  }
 ],
 "metadata": {
  "kernelspec": {
   "display_name": "Python 3",
   "language": "python",
   "name": "python3"
  },
  "language_info": {
   "codemirror_mode": {
    "name": "ipython",
    "version": 3
   },
   "file_extension": ".py",
   "mimetype": "text/x-python",
   "name": "python",
   "nbconvert_exporter": "python",
   "pygments_lexer": "ipython3",
   "version": "3.7.7"
  }
 },
 "nbformat": 4,
 "nbformat_minor": 4
}
